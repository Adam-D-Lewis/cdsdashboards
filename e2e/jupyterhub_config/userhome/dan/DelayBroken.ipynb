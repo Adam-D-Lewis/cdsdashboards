{
 "cells": [
  {
   "cell_type": "code",
   "execution_count": 4,
   "metadata": {},
   "outputs": [],
   "source": [
    "import time"
   ]
  },
  {
   "cell_type": "code",
   "execution_count": 8,
   "metadata": {},
   "outputs": [],
   "source": [
    "rep = 0\n",
    "def do_delay(delay):\n",
    "    global rep\n",
    "    rep = rep +1\n",
    "    print('Starting rep {}'.format(rep))\n",
    "    for i in range(delay):\n",
    "        time.sleep(1)\n",
    "        print('Now at {}'.format(i))\n",
    "    \n",
    "    print('Finished')"
   ]
  },
  {
   "cell_type": "code",
   "execution_count": 9,
   "metadata": {},
   "outputs": [
    {
     "name": "stdout",
     "output_type": "stream",
     "text": [
      "Starting rep 1\n",
      "Now at 0\n",
      "Now at 1\n",
      "Now at 2\n",
      "Now at 3\n",
      "Now at 4\n",
      "Now at 5\n",
      "Now at 6\n",
      "Now at 7\n",
      "Now at 8\n",
      "Now at 9\n",
      "Finished\n"
     ]
    }
   ],
   "source": [
    "do_delay(10)"
   ]
  },
  {
   "cell_type": "code",
   "execution_count": 10,
   "metadata": {},
   "outputs": [
    {
     "name": "stdout",
     "output_type": "stream",
     "text": [
      "Starting rep 2\n",
      "Now at 0\n",
      "Now at 1\n",
      "Now at 2\n",
      "Now at 3\n",
      "Now at 4\n",
      "Now at 5\n",
      "Now at 6\n",
      "Now at 7\n",
      "Now at 8\n",
      "Now at 9\n",
      "Finished\n"
     ]
    }
   ],
   "source": [
    "do_delay(10)"
   ]
  },
  {
   "cell_type": "code",
   "execution_count": null,
   "metadata": {},
   "outputs": [],
   "source": [
    "do_delay(10)"
   ]
  },
  {
   "cell_type": "code",
   "execution_count": null,
   "metadata": {},
   "outputs": [],
   "source": [
    "do_delay(10)"
   ]
  },
  {
   "cell_type": "code",
   "execution_count": null,
   "metadata": {},
   "outputs": [],
   "source": [
    "do_delay(10)"
   ]
  },
  {
   "cell_type": "code",
   "execution_count": null,
   "metadata": {},
   "outputs": [],
   "source": [
    "do_delay(10)"
   ]
  }
 ],
 "metadata": {
  "kernelspec": {
   "display_name": "Python 3",
   "language": "python",
   "name": "python3"
  },
  "language_info": {
   "codemirror_mode": {
    "name": "ipython",
    "version": 3
   },
   "file_extension": ".py",
   "mimetype": "text/x-python",
   "name": "python",
   "nbconvert_exporter": "python",
   "pygments_lexer": "ipython3",
   "version": "3.7.6"
  }
 },
 "nbformat": 4,
 "nbformat_minor": 4
}
