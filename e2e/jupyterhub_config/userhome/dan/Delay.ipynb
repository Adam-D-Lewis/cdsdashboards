{
 "cells": [
  {
   "cell_type": "code",
   "execution_count": 3,
   "metadata": {},
   "outputs": [],
   "source": [
    "import time\n",
    "delay = 40 # seconds"
   ]
  },
  {
   "cell_type": "code",
   "execution_count": 4,
   "metadata": {},
   "outputs": [
    {
     "name": "stdout",
     "output_type": "stream",
     "text": [
      "Starting\n",
      "Now at 0\n",
      "Now at 1\n",
      "Now at 2\n",
      "Now at 3\n",
      "Now at 4\n",
      "Now at 5\n",
      "Now at 6\n",
      "Now at 7\n",
      "Now at 8\n",
      "Now at 9\n",
      "Now at 10\n",
      "Now at 11\n",
      "Now at 12\n",
      "Now at 13\n",
      "Now at 14\n",
      "Now at 15\n",
      "Now at 16\n",
      "Now at 17\n",
      "Now at 18\n",
      "Now at 19\n",
      "Now at 20\n",
      "Now at 21\n",
      "Now at 22\n",
      "Now at 23\n",
      "Now at 24\n",
      "Now at 25\n",
      "Now at 26\n",
      "Now at 27\n",
      "Now at 28\n",
      "Now at 29\n",
      "Now at 30\n",
      "Now at 31\n",
      "Now at 32\n",
      "Now at 33\n",
      "Now at 34\n",
      "Now at 35\n",
      "Now at 36\n",
      "Now at 37\n",
      "Now at 38\n",
      "Now at 39\n",
      "Finished\n"
     ]
    }
   ],
   "source": [
    "print('Starting')\n",
    "for i in range(delay):\n",
    "    time.sleep(1)\n",
    "    print('Now at {}'.format(i))\n",
    "    \n",
    "print('Finished')"
   ]
  },
  {
   "cell_type": "code",
   "execution_count": null,
   "metadata": {},
   "outputs": [],
   "source": []
  }
 ],
 "metadata": {
  "kernelspec": {
   "display_name": "Python 3",
   "language": "python",
   "name": "python3"
  },
  "language_info": {
   "codemirror_mode": {
    "name": "ipython",
    "version": 3
   },
   "file_extension": ".py",
   "mimetype": "text/x-python",
   "name": "python",
   "nbconvert_exporter": "python",
   "pygments_lexer": "ipython3",
   "version": "3.7.6"
  }
 },
 "nbformat": 4,
 "nbformat_minor": 4
}
